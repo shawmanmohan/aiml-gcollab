{
  "nbformat": 4,
  "nbformat_minor": 0,
  "metadata": {
    "colab": {
      "name": "Untitled0.ipynb",
      "provenance": [],
      "authorship_tag": "ABX9TyNX2eQnTz6RIag7UUAUIgNE",
      "include_colab_link": true
    },
    "kernelspec": {
      "name": "python3",
      "display_name": "Python 3"
    },
    "language_info": {
      "name": "python"
    }
  },
  "cells": [
    {
      "cell_type": "markdown",
      "metadata": {
        "id": "view-in-github",
        "colab_type": "text"
      },
      "source": [
        "<a href=\"https://colab.research.google.com/github/shawmanmohan/aiml-gcollab/blob/main/neural-network-101.ipynb\" target=\"_parent\"><img src=\"https://colab.research.google.com/assets/colab-badge.svg\" alt=\"Open In Colab\"/></a>"
      ]
    },
    {
      "cell_type": "code",
      "execution_count": 1,
      "metadata": {
        "id": "VItFycjAjf5s"
      },
      "outputs": [],
      "source": [
        "import tensorflow as tf"
      ]
    },
    {
      "cell_type": "code",
      "source": [
        "import random \n",
        "import numpy as np"
      ],
      "metadata": {
        "id": "dRahVeG2jizK"
      },
      "execution_count": 5,
      "outputs": []
    },
    {
      "cell_type": "code",
      "source": [
        "X = np.array([1,2,3,4,5,6,7,8,9])"
      ],
      "metadata": {
        "id": "8Q34A7KMjuLc"
      },
      "execution_count": 6,
      "outputs": []
    },
    {
      "cell_type": "code",
      "source": [
        "y = np.array([3,5,7,9,11,13,15,17,19])"
      ],
      "metadata": {
        "id": "f_fhWAInjxnO"
      },
      "execution_count": 7,
      "outputs": []
    },
    {
      "cell_type": "code",
      "source": [
        "model = tf.keras.models.Sequential() "
      ],
      "metadata": {
        "id": "P41nML58kFyL"
      },
      "execution_count": 8,
      "outputs": []
    },
    {
      "cell_type": "code",
      "source": [
        "model.add(tf.keras.layers.Flatten())\n",
        "model.add(tf.keras.layers.Dense(1))"
      ],
      "metadata": {
        "id": "reUhdt82kgkY"
      },
      "execution_count": 9,
      "outputs": []
    },
    {
      "cell_type": "code",
      "source": [
        "model.compile(optimizer='sgd',loss='mean_squared_error')"
      ],
      "metadata": {
        "id": "9f-6fczQkzxr"
      },
      "execution_count": 10,
      "outputs": []
    },
    {
      "cell_type": "code",
      "source": [
        "model.fit(X, y , epochs=10)"
      ],
      "metadata": {
        "colab": {
          "base_uri": "https://localhost:8080/"
        },
        "id": "pOHwJkZclGRi",
        "outputId": "160303b9-881a-4cdd-fc98-f5faa4e5b087"
      },
      "execution_count": 11,
      "outputs": [
        {
          "output_type": "stream",
          "name": "stdout",
          "text": [
            "Epoch 1/10\n",
            "1/1 [==============================] - 0s 483ms/step - loss: 151.5405\n",
            "Epoch 2/10\n",
            "1/1 [==============================] - 0s 7ms/step - loss: 18.7258\n",
            "Epoch 3/10\n",
            "1/1 [==============================] - 0s 4ms/step - loss: 2.3833\n",
            "Epoch 4/10\n",
            "1/1 [==============================] - 0s 5ms/step - loss: 0.3719\n",
            "Epoch 5/10\n",
            "1/1 [==============================] - 0s 6ms/step - loss: 0.1237\n",
            "Epoch 6/10\n",
            "1/1 [==============================] - 0s 5ms/step - loss: 0.0926\n",
            "Epoch 7/10\n",
            "1/1 [==============================] - 0s 5ms/step - loss: 0.0881\n",
            "Epoch 8/10\n",
            "1/1 [==============================] - 0s 5ms/step - loss: 0.0869\n",
            "Epoch 9/10\n",
            "1/1 [==============================] - 0s 6ms/step - loss: 0.0861\n",
            "Epoch 10/10\n",
            "1/1 [==============================] - 0s 4ms/step - loss: 0.0854\n"
          ]
        },
        {
          "output_type": "execute_result",
          "data": {
            "text/plain": [
              "<keras.callbacks.History at 0x7f50cd50cd50>"
            ]
          },
          "metadata": {},
          "execution_count": 11
        }
      ]
    },
    {
      "cell_type": "code",
      "source": [
        "model.predict([18])"
      ],
      "metadata": {
        "colab": {
          "base_uri": "https://localhost:8080/"
        },
        "id": "awoMw8TflK50",
        "outputId": "55a02656-929b-4b9c-bf5c-a81e0759063b"
      },
      "execution_count": 13,
      "outputs": [
        {
          "output_type": "execute_result",
          "data": {
            "text/plain": [
              "array([[38.17917]], dtype=float32)"
            ]
          },
          "metadata": {},
          "execution_count": 13
        }
      ]
    },
    {
      "cell_type": "code",
      "source": [
        ""
      ],
      "metadata": {
        "id": "6Z8aRjoWlPme"
      },
      "execution_count": null,
      "outputs": []
    }
  ]
}